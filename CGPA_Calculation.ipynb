{
  "cells": [
    {
      "cell_type": "code",
      "source": [
        "import pandas as pd\n",
        "import numpy as np\n",
        "\n",
        "# Load your dataset into a Pandas DataFrame\n",
        "df = pd.read_csv('/content/Grades - Sheet1.csv')\n",
        "# Assuming 'GPA' and 'Term Credits' columns are present\n",
        "# If not, replace with your actual column names\n",
        "\n",
        "# Calculate 'Term Grade Points' for each term\n",
        "df['Term Grade Points'] = df['GPA'] * df['Term Credits']\n",
        "\n",
        "# Calculate CGPA\n",
        "total_term_grade_points = df['Term Grade Points'].sum()\n",
        "total_term_credits = df['Term Credits'].sum()\n",
        "cgpa = total_term_grade_points / total_term_credits\n",
        "\n",
        "print(f'Total Term Credits: {total_term_credits}')\n",
        "print(f'CGPA: {cgpa}')"
      ],
      "metadata": {
        "colab": {
          "base_uri": "https://localhost:8080/"
        },
        "id": "SOn1IvgKdibH",
        "outputId": "e73396e5-c1be-488e-ce78-c736fb56ff1c"
      },
      "execution_count": 39,
      "outputs": [
        {
          "output_type": "stream",
          "name": "stdout",
          "text": [
            "Total Term Credits: 116\n",
            "CGPA: 7.896206896551725\n"
          ]
        }
      ]
    }
  ],
  "metadata": {
    "colab": {
      "provenance": []
    },
    "kernelspec": {
      "display_name": "Python 3",
      "name": "python3"
    },
    "language_info": {
      "name": "python"
    }
  },
  "nbformat": 4,
  "nbformat_minor": 0
}